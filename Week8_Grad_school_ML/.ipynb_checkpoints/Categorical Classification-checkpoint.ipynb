{
 "cells": [
  {
   "cell_type": "markdown",
   "id": "b89443cf",
   "metadata": {},
   "source": [
    "# Introduction to Machine Learning in Astronomy: Part 1\n",
    "Written by Aayush Arya (version: Aug 27, 2023)\n",
    "\n",
    "See the accompanying video lecture for the technical background"
   ]
  },
  {
   "cell_type": "markdown",
   "id": "eb777845",
   "metadata": {},
   "source": [
    "![Classification](Classification_Clustering.png)"
   ]
  },
  {
   "cell_type": "markdown",
   "id": "987ecd80",
   "metadata": {},
   "source": [
    "This problem seems trivial, but has a lot of useful lessons to illustrate. \n",
    "\n",
    "The $x$ and $y$ quantities could be phase space coordinates, or color index/magnitude. \n",
    "We know that in a Hertzsprung-Russell diagram, stars in different evolutionary phases \"clump\" in different regions. There is indeed then a correlation between position in the HR diagram and luminosity class/evolutionary phase.\n",
    "\n",
    "![HR Diagram](https://upload.wikimedia.org/wikipedia/commons/6/6b/HRDiagram.png)\n",
    "Image: Wikipedia"
   ]
  },
  {
   "cell_type": "markdown",
   "id": "0839f3b6",
   "metadata": {},
   "source": [
    "You have been provided with three files: `category_dataset.csv` contains a bunch of $(x,y)$ coordinates with each point having an associated _category_ (in abstract terms, either 0 or 1). You will use this as a dataset for training your classifier.\n",
    "\n",
    "Then, we'll look at what happens if you ask your network to make a prediction on an $(x,y)$ pair that is very different from what it's already seen (`unseen_test.csv`). \n",
    "\n",
    "Finally, I will ask you to train with a dataset that contains both of $(x,y)$ and see how the model's predictability changes further(`extended_training.csv`)."
   ]
  },
  {
   "cell_type": "code",
   "execution_count": 1,
   "id": "ba3845a5",
   "metadata": {
    "scrolled": true
   },
   "outputs": [],
   "source": [
    "import keras\n",
    "import numpy as np\n",
    "import pandas as pd\n",
    "import matplotlib.pyplot as plt\n",
    "\n",
    "from keras.models import Sequential\n",
    "from keras.layers import Dense\n",
    "\n",
    "# A method that lets you easily split a dataset into \"training\" and \"test\" subsets\n",
    "from sklearn.model_selection import train_test_split"
   ]
  },
  {
   "cell_type": "code",
   "execution_count": null,
   "id": "32650785",
   "metadata": {},
   "outputs": [],
   "source": [
    "plt.rcParams['text.usetex'] = True\n",
    "plt.rcParams['font.family'] = 'serif'\n",
    "plt.rcParams['font.serif'] = ['Computer Modern']"
   ]
  },
  {
   "cell_type": "code",
   "execution_count": null,
   "id": "c2dc7710",
   "metadata": {},
   "outputs": [],
   "source": [
    "dataset = pd.read_csv('./data/category_dataset.csv')\n",
    "dataset"
   ]
  },
  {
   "cell_type": "markdown",
   "id": "3f46bec5",
   "metadata": {},
   "source": [
    "You may be wondering what this dataset is\n",
    "\n",
    "![Block structure](./true_distrib.png)"
   ]
  },
  {
   "cell_type": "code",
   "execution_count": null,
   "id": "b25f2da6",
   "metadata": {},
   "outputs": [],
   "source": [
    "coords = dataset.drop('category', axis=1) # input\n",
    "labels = dataset['category'] # true output\n",
    "\n",
    "coords"
   ]
  },
  {
   "cell_type": "markdown",
   "id": "af7aa4d1",
   "metadata": {},
   "source": [
    "You need a `Model` class for the network architecture. The class [Sequential](https://keras.io/api/models/sequential/) in `keras` gives you the bones for a simple one that is going to be relevant for us. `Sequential` because one layer is passed on to after the other. For our _feedforward_ or _fully connected_ neural network, this is going to be all we need."
   ]
  },
  {
   "cell_type": "code",
   "execution_count": null,
   "id": "15d96814",
   "metadata": {},
   "outputs": [],
   "source": [
    "network = Sequential()\n",
    "\n",
    "network.add(keras.Input(shape=(2,)))\n",
    "network.add(Dense(6, activation='relu'))\n",
    "network.add(Dense(8, activation='relu'))\n",
    "\n",
    "network.add(Dense(1, activation='sigmoid'))"
   ]
  },
  {
   "cell_type": "code",
   "execution_count": null,
   "id": "3308a4e3",
   "metadata": {},
   "outputs": [],
   "source": [
    "network.compile(optimizer='adam', loss=keras.losses.BinaryCrossentropy(from_logits=False),\n",
    "                metrics=['accuracy', keras.metrics.BinaryAccuracy()])"
   ]
  },
  {
   "cell_type": "markdown",
   "id": "ed963e20",
   "metadata": {},
   "source": [
    "The optimizer's role is to find an optimal path to minimizing the loss function. ADAM is a superior choice (compared to Stochastic Gradient Descent). We encourage to figure out why! (Hint: It's ADAptive. You should read about vanishing/exploding gradients problem.)"
   ]
  },
  {
   "cell_type": "code",
   "execution_count": null,
   "id": "25d5b3ef",
   "metadata": {
    "scrolled": true
   },
   "outputs": [],
   "source": [
    "network.summary()"
   ]
  },
  {
   "cell_type": "markdown",
   "id": "0cc1ae23",
   "metadata": {},
   "source": [
    "Apparently, the network summary doesn't show the input shape."
   ]
  },
  {
   "cell_type": "code",
   "execution_count": null,
   "id": "bfb97401",
   "metadata": {
    "scrolled": true
   },
   "outputs": [],
   "source": [
    "history = network.fit(coords, labels, batch_size=250, epochs=100)"
   ]
  },
  {
   "cell_type": "code",
   "execution_count": null,
   "id": "b8df8779",
   "metadata": {},
   "outputs": [],
   "source": [
    "history.history.keys()"
   ]
  },
  {
   "cell_type": "code",
   "execution_count": null,
   "id": "dd4be5c2",
   "metadata": {},
   "outputs": [],
   "source": [
    "fig2, ax2 = plt.subplots(1, 2, figsize=(12,6))\n",
    "\n",
    "ax2[1].plot(history.history['binary_accuracy'])\n",
    "ax2[0].plot(history.history['loss'])\n",
    "for ax in ax2:\n",
    "    ax.set_xlabel('Epoch')\n",
    "ax2[1].set_ylabel('Binary Accuracy')\n",
    "ax2[0].set_ylabel('Loss Function - $\\mathcal{L}$')"
   ]
  },
  {
   "cell_type": "markdown",
   "id": "1f76f47f",
   "metadata": {},
   "source": [
    "I want to see what kind of predictions the network makes across the whole range of $x,y \\in [-1, 1]$. Plotting that would make it easy to see what the model is actually learning."
   ]
  },
  {
   "cell_type": "code",
   "execution_count": null,
   "id": "1eceba4c",
   "metadata": {},
   "outputs": [],
   "source": [
    "def make_square_grid(min_val=-2, max_val=2):\n",
    "    x = np.linspace(min_val, max_val, 100)\n",
    "    y = x\n",
    "    XX, YY = np.meshgrid(x, y, indexing='xy')\n",
    "\n",
    "    xx = XX.flatten()\n",
    "    yy = YY.flatten()\n",
    "    return pd.DataFrame(data = {'x': xx, 'y': yy})"
   ]
  },
  {
   "cell_type": "code",
   "execution_count": null,
   "id": "85b001b6",
   "metadata": {},
   "outputs": [],
   "source": [
    "grid_to_evaluate = make_square_grid(-1, 1)\n",
    "\n",
    "grid_to_evaluate"
   ]
  },
  {
   "cell_type": "code",
   "execution_count": null,
   "id": "9dd35440",
   "metadata": {
    "scrolled": true
   },
   "outputs": [],
   "source": [
    "predictions = network.predict(grid_to_evaluate)"
   ]
  },
  {
   "cell_type": "markdown",
   "id": "491ade61",
   "metadata": {},
   "source": [
    "I also like to test a few examples individually for personal satisfaction, lol"
   ]
  },
  {
   "cell_type": "code",
   "execution_count": null,
   "id": "2010bcd0",
   "metadata": {
    "scrolled": true
   },
   "outputs": [],
   "source": [
    "lol = network.predict(np.array([[0.5, 0.5], [-0.5, 0.5]]))"
   ]
  },
  {
   "cell_type": "code",
   "execution_count": null,
   "id": "78fa6567",
   "metadata": {},
   "outputs": [],
   "source": [
    "lol"
   ]
  },
  {
   "cell_type": "code",
   "execution_count": null,
   "id": "3ff890b4",
   "metadata": {},
   "outputs": [],
   "source": [
    "np.unique(predictions)"
   ]
  },
  {
   "cell_type": "code",
   "execution_count": null,
   "id": "f2c4be0a",
   "metadata": {},
   "outputs": [],
   "source": [
    "grid_vals = predictions.reshape((100, 100))\n",
    "#img = XX[:,:, np.newaxis]\n",
    "#img[:,:,0] = grid_vals"
   ]
  },
  {
   "cell_type": "code",
   "execution_count": null,
   "id": "b322378d",
   "metadata": {},
   "outputs": [],
   "source": [
    "plt.imshow(grid_vals, cmap='RdYlBu')"
   ]
  },
  {
   "cell_type": "markdown",
   "id": "6de31e3e",
   "metadata": {},
   "source": [
    "So far so good. But how well does a network perform when it comes to making predictions for input that differs from the training data."
   ]
  },
  {
   "cell_type": "code",
   "execution_count": null,
   "id": "1896d521",
   "metadata": {},
   "outputs": [],
   "source": [
    "larger = make_square_grid(-2, 2)"
   ]
  },
  {
   "cell_type": "markdown",
   "id": "d3bd83d3",
   "metadata": {},
   "source": [
    "Data points from the true distribution that I didn't include in the first dataset."
   ]
  },
  {
   "cell_type": "code",
   "execution_count": null,
   "id": "859b438b",
   "metadata": {},
   "outputs": [],
   "source": [
    "unseen_data = pd.read_csv('./data/unseen_test.csv')"
   ]
  },
  {
   "cell_type": "code",
   "execution_count": null,
   "id": "bb4e101c",
   "metadata": {},
   "outputs": [],
   "source": [
    "grid_vals2 = network.predict(larger).reshape((100, 100))"
   ]
  },
  {
   "cell_type": "code",
   "execution_count": null,
   "id": "009ee826",
   "metadata": {},
   "outputs": [],
   "source": [
    "fig, axes = plt.subplots(1, 2, figsize=(12, 6))\n",
    "\n",
    "axes[0].scatter(unseen_data['x'], unseen_data['y'], c=unseen_data['category'], ec='k', cmap='RdYlBu')\n",
    "axes[1].imshow(grid_vals2, cmap='RdYlBu', extent=(-2, 2, -2, 2))\n",
    "plt.tight_layout()"
   ]
  },
  {
   "cell_type": "markdown",
   "id": "81c24002",
   "metadata": {},
   "source": [
    "It seems that that the model expected the same behavior to continue.\n",
    "\n",
    "Here we had just two 2 coordinates and two possible categories. How wrong could the model go if we had hundred input variables and 15 different categories? "
   ]
  },
  {
   "cell_type": "code",
   "execution_count": null,
   "id": "5efc57ea",
   "metadata": {},
   "outputs": [],
   "source": [
    "unseen_coords = unseen_data.drop('category', axis=1)\n",
    "unseen_labels = unseen_data['category']"
   ]
  },
  {
   "cell_type": "markdown",
   "id": "b2642176",
   "metadata": {},
   "source": [
    "Let's try training once again, but only with the _outer_ region, cutting out the inner $x, y \\in [-1, 1]$"
   ]
  },
  {
   "cell_type": "code",
   "execution_count": null,
   "id": "2ac5797b",
   "metadata": {
    "scrolled": true
   },
   "outputs": [],
   "source": [
    "hist2 = network.fit(unseen_coords, unseen_labels, batch_size=250, epochs=50)"
   ]
  },
  {
   "cell_type": "code",
   "execution_count": null,
   "id": "f36344a1",
   "metadata": {},
   "outputs": [],
   "source": [
    "new_pred = network.predict(unseen_coords)"
   ]
  },
  {
   "cell_type": "code",
   "execution_count": null,
   "id": "0128fbec",
   "metadata": {},
   "outputs": [],
   "source": [
    "fig2, ax2 = plt.subplots(figsize=(6,6))\n",
    "plt.scatter(unseen_coords['x'], unseen_coords['y'], c=new_pred, ec='w', lw=0.4, cmap='RdYlBu')"
   ]
  },
  {
   "cell_type": "markdown",
   "id": "ee180222",
   "metadata": {},
   "source": [
    "I wonder how intact is the _inner_ region. Let's see for a second"
   ]
  },
  {
   "cell_type": "code",
   "execution_count": null,
   "id": "01dec75b",
   "metadata": {},
   "outputs": [],
   "source": [
    "new_prediction = network.predict(larger).reshape((100,100))\n",
    "\n",
    "plt.imshow(new_prediction, cmap='RdYlBu', extent=(-2, 2, -2, 2))"
   ]
  },
  {
   "cell_type": "markdown",
   "id": "e3282045",
   "metadata": {},
   "source": [
    "This may at first seem demotivating as to how unreliable our (rather simple) neural network is for such a trivial classification task. I would remark that some neural network architectures are more suitable for learning different kinds of information. For example, convolutional neural networks are very useful in image recognition. If you have the image of a handwritten \"6\", a CNN can pick up its pattern and identify it even if you rotate the image for instance.\n",
    "\n",
    "Note that you aren't ever restricted to using _just_ a convolutional architecture or a recurrent neural network or some other _named_ class. A real problem may require a combination or even a custom design. \n",
    "\n",
    "One of the recent, most powerful use of machine learning in science has been [AlphaFold](https://www.nature.com/articles/s41586-021-03819-2), which was a highlighted breakthrough in protein structure prediction. Look at how specialized their architecture is.  "
   ]
  },
  {
   "cell_type": "markdown",
   "id": "c028f953",
   "metadata": {},
   "source": [
    "## Questions:\n",
    "1. If you actually were to implement such a method for classifying stars, what other things apart from $B-V$ and $V$ would you consider to diminish wrong classifications? (Whether it be additional info from photometry, or any physically motivated idea)\n",
    "2. Can you guess why ReLU is often a superior activation function compared to sigmoid, for example? Also, could the ReLU be improved? (Hint: Yes!)\n",
    "3. Is machine learning the optimal solution for this problem?\n",
    "\n",
    "## Homework:\n",
    "Take the `extended_training.csv` dataset. It contains $(x,y)$ values covering both the regions we encountered. Train the network with it from scratch. Now try to see what the network predicts for values extending even further out, i.e. $(-3,-3)$ to $(3, 3)$. Does it pick up the recurring pattern this time? Do the results suprise you?\n",
    "\n",
    "Try truncating the training at 20 epochs or less. Does that help? Were we just overfitting?\n",
    "\n",
    "If you want to try things for fun to deepen your understanding: What's the effect of changing the number of hidden layers or neurons within a single layer. Intuitively, how is adding more cells to a layer different from more layers in a sequence? (Think of the algebra, maybe?)"
   ]
  },
  {
   "cell_type": "markdown",
   "id": "1aea4364-68ec-4179-b941-c7d27dd0301e",
   "metadata": {},
   "source": [
    "Yes sure.\n",
    "* Additional Feature Extraction: We could extract more features from the star spectra or other observational data, such as the temporal variability of star brightness, the color of the star, hydrogen emission lines, etc. These additional features could potentially improve the classification performance.\n",
    "\n",
    "* Hierarchical/Multi-Stage Classification: Instead of a single model, we could approach star classification in a hierarchical or multi-stage manner. The first stage could distinguish the broad classes (main sequence, dwarfs, giants, etc.), and subsequent stages could refine the classification into more specific sub-classes.\n",
    "\n",
    "- As for why ReLU is generally superior to sigmoid as an activation function:\r\n",
    "\r\n",
    "ReLU provides a more linear and flat activation function compared to sigmoid. This allows for faster training and higher performance in deep neural networks."
   ]
  },
  {
   "cell_type": "code",
   "execution_count": 10,
   "id": "99931f46-b7e3-4185-8f5e-0b653ae0e2bb",
   "metadata": {},
   "outputs": [],
   "source": [
    "df=pd.read_csv('extended_training.csv')"
   ]
  },
  {
   "cell_type": "code",
   "execution_count": 11,
   "id": "0c711f8a-f253-40bf-a083-a304fa94248a",
   "metadata": {},
   "outputs": [
    {
     "data": {
      "text/html": [
       "<div>\n",
       "<style scoped>\n",
       "    .dataframe tbody tr th:only-of-type {\n",
       "        vertical-align: middle;\n",
       "    }\n",
       "\n",
       "    .dataframe tbody tr th {\n",
       "        vertical-align: top;\n",
       "    }\n",
       "\n",
       "    .dataframe thead th {\n",
       "        text-align: right;\n",
       "    }\n",
       "</style>\n",
       "<table border=\"1\" class=\"dataframe\">\n",
       "  <thead>\n",
       "    <tr style=\"text-align: right;\">\n",
       "      <th></th>\n",
       "      <th>x</th>\n",
       "      <th>y</th>\n",
       "      <th>category</th>\n",
       "    </tr>\n",
       "  </thead>\n",
       "  <tbody>\n",
       "    <tr>\n",
       "      <th>0</th>\n",
       "      <td>-1.716</td>\n",
       "      <td>1.172</td>\n",
       "      <td>0</td>\n",
       "    </tr>\n",
       "    <tr>\n",
       "      <th>1</th>\n",
       "      <td>-1.588</td>\n",
       "      <td>0.772</td>\n",
       "      <td>1</td>\n",
       "    </tr>\n",
       "    <tr>\n",
       "      <th>2</th>\n",
       "      <td>-0.504</td>\n",
       "      <td>-0.112</td>\n",
       "      <td>1</td>\n",
       "    </tr>\n",
       "    <tr>\n",
       "      <th>3</th>\n",
       "      <td>-1.324</td>\n",
       "      <td>0.332</td>\n",
       "      <td>1</td>\n",
       "    </tr>\n",
       "    <tr>\n",
       "      <th>4</th>\n",
       "      <td>0.920</td>\n",
       "      <td>-0.332</td>\n",
       "      <td>0</td>\n",
       "    </tr>\n",
       "  </tbody>\n",
       "</table>\n",
       "</div>"
      ],
      "text/plain": [
       "       x      y  category\n",
       "0 -1.716  1.172         0\n",
       "1 -1.588  0.772         1\n",
       "2 -0.504 -0.112         1\n",
       "3 -1.324  0.332         1\n",
       "4  0.920 -0.332         0"
      ]
     },
     "execution_count": 11,
     "metadata": {},
     "output_type": "execute_result"
    }
   ],
   "source": [
    "df.head()"
   ]
  },
  {
   "cell_type": "code",
   "execution_count": 12,
   "id": "1c2b7751-e476-46d1-9ae0-f3cfa1fc0099",
   "metadata": {},
   "outputs": [
    {
     "data": {
      "text/plain": [
       "(10000, 3)"
      ]
     },
     "execution_count": 12,
     "metadata": {},
     "output_type": "execute_result"
    }
   ],
   "source": [
    "df.shape"
   ]
  },
  {
   "cell_type": "code",
   "execution_count": 21,
   "id": "2f698fd1-a83e-490d-af89-92ee7056076e",
   "metadata": {},
   "outputs": [],
   "source": [
    "x=df.drop('category',axis=1)   #x'i - y'i eşitledik. son sütunu ayırdık, bunu yapmanın başka yollarıda var.\n",
    "y=df[['category']]"
   ]
  },
  {
   "cell_type": "code",
   "execution_count": 22,
   "id": "dce3f167-37fc-4677-927a-85b2f4388559",
   "metadata": {},
   "outputs": [],
   "source": [
    "x_train, x_test, y_train, y_test = train_test_split(x, y, test_size=0.2, random_state=42)"
   ]
  },
  {
   "cell_type": "code",
   "execution_count": 23,
   "id": "56cd7d1e-bea8-4add-b6b7-d3bdc8870e1f",
   "metadata": {},
   "outputs": [
    {
     "name": "stderr",
     "output_type": "stream",
     "text": [
      "C:\\Users\\İdeaPad\\AppData\\Roaming\\Python\\Python312\\site-packages\\keras\\src\\layers\\core\\dense.py:87: UserWarning: Do not pass an `input_shape`/`input_dim` argument to a layer. When using Sequential models, prefer using an `Input(shape)` object as the first layer in the model instead.\n",
      "  super().__init__(activity_regularizer=activity_regularizer, **kwargs)\n"
     ]
    }
   ],
   "source": [
    "model = Sequential()\n",
    "model.add(Dense(3, input_dim=2, activation='relu'))\n",
    "model.add(Dense(120, activation='relu'))\n",
    "model.add(Dense(80, activation='relu'))\n",
    "model.add(Dense(64, activation='relu'))\n",
    "model.add(Dense(20, activation='relu'))\n",
    "model.add(Dense(1, activation='sigmoid'))\n",
    "model.compile(loss='binary_crossentropy', optimizer='adam', metrics=['accuracy'])"
   ]
  },
  {
   "cell_type": "code",
   "execution_count": 24,
   "id": "b884da87-27e4-4bbf-a9d3-0d02eded2e24",
   "metadata": {},
   "outputs": [
    {
     "name": "stdout",
     "output_type": "stream",
     "text": [
      "Epoch 1/100\n",
      "\u001b[1m8000/8000\u001b[0m \u001b[32m━━━━━━━━━━━━━━━━━━━━\u001b[0m\u001b[37m\u001b[0m \u001b[1m15s\u001b[0m 2ms/step - accuracy: 0.5230 - loss: 0.6888 - val_accuracy: 0.5930 - val_loss: 0.6534\n",
      "Epoch 2/100\n",
      "\u001b[1m8000/8000\u001b[0m \u001b[32m━━━━━━━━━━━━━━━━━━━━\u001b[0m\u001b[37m\u001b[0m \u001b[1m12s\u001b[0m 1ms/step - accuracy: 0.6331 - loss: 0.6256 - val_accuracy: 0.6370 - val_loss: 0.5984\n",
      "Epoch 3/100\n",
      "\u001b[1m8000/8000\u001b[0m \u001b[32m━━━━━━━━━━━━━━━━━━━━\u001b[0m\u001b[37m\u001b[0m \u001b[1m12s\u001b[0m 1ms/step - accuracy: 0.6542 - loss: 0.5709 - val_accuracy: 0.6525 - val_loss: 0.5594\n",
      "Epoch 4/100\n",
      "\u001b[1m8000/8000\u001b[0m \u001b[32m━━━━━━━━━━━━━━━━━━━━\u001b[0m\u001b[37m\u001b[0m \u001b[1m12s\u001b[0m 2ms/step - accuracy: 0.6897 - loss: 0.5369 - val_accuracy: 0.6955 - val_loss: 0.5230\n",
      "Epoch 5/100\n",
      "\u001b[1m8000/8000\u001b[0m \u001b[32m━━━━━━━━━━━━━━━━━━━━\u001b[0m\u001b[37m\u001b[0m \u001b[1m13s\u001b[0m 2ms/step - accuracy: 0.7066 - loss: 0.4940 - val_accuracy: 0.7000 - val_loss: 0.5223\n",
      "Epoch 6/100\n",
      "\u001b[1m8000/8000\u001b[0m \u001b[32m━━━━━━━━━━━━━━━━━━━━\u001b[0m\u001b[37m\u001b[0m \u001b[1m12s\u001b[0m 2ms/step - accuracy: 0.7116 - loss: 0.4810 - val_accuracy: 0.7190 - val_loss: 0.4935\n",
      "Epoch 7/100\n",
      "\u001b[1m8000/8000\u001b[0m \u001b[32m━━━━━━━━━━━━━━━━━━━━\u001b[0m\u001b[37m\u001b[0m \u001b[1m13s\u001b[0m 2ms/step - accuracy: 0.7067 - loss: 0.4751 - val_accuracy: 0.7320 - val_loss: 0.4664\n",
      "Epoch 8/100\n",
      "\u001b[1m8000/8000\u001b[0m \u001b[32m━━━━━━━━━━━━━━━━━━━━\u001b[0m\u001b[37m\u001b[0m \u001b[1m13s\u001b[0m 2ms/step - accuracy: 0.7122 - loss: 0.4634 - val_accuracy: 0.7235 - val_loss: 0.4548\n",
      "Epoch 9/100\n",
      "\u001b[1m8000/8000\u001b[0m \u001b[32m━━━━━━━━━━━━━━━━━━━━\u001b[0m\u001b[37m\u001b[0m \u001b[1m12s\u001b[0m 2ms/step - accuracy: 0.7287 - loss: 0.4506 - val_accuracy: 0.7040 - val_loss: 0.4836\n",
      "Epoch 10/100\n",
      "\u001b[1m8000/8000\u001b[0m \u001b[32m━━━━━━━━━━━━━━━━━━━━\u001b[0m\u001b[37m\u001b[0m \u001b[1m13s\u001b[0m 2ms/step - accuracy: 0.7223 - loss: 0.4527 - val_accuracy: 0.7230 - val_loss: 0.4860\n",
      "Epoch 11/100\n",
      "\u001b[1m8000/8000\u001b[0m \u001b[32m━━━━━━━━━━━━━━━━━━━━\u001b[0m\u001b[37m\u001b[0m \u001b[1m14s\u001b[0m 2ms/step - accuracy: 0.7269 - loss: 0.4461 - val_accuracy: 0.7250 - val_loss: 0.4641\n",
      "Epoch 12/100\n",
      "\u001b[1m8000/8000\u001b[0m \u001b[32m━━━━━━━━━━━━━━━━━━━━\u001b[0m\u001b[37m\u001b[0m \u001b[1m12s\u001b[0m 1ms/step - accuracy: 0.7229 - loss: 0.4542 - val_accuracy: 0.7370 - val_loss: 0.4353\n",
      "Epoch 13/100\n",
      "\u001b[1m8000/8000\u001b[0m \u001b[32m━━━━━━━━━━━━━━━━━━━━\u001b[0m\u001b[37m\u001b[0m \u001b[1m12s\u001b[0m 1ms/step - accuracy: 0.7328 - loss: 0.4385 - val_accuracy: 0.7100 - val_loss: 0.5237\n",
      "Epoch 14/100\n",
      "\u001b[1m8000/8000\u001b[0m \u001b[32m━━━━━━━━━━━━━━━━━━━━\u001b[0m\u001b[37m\u001b[0m \u001b[1m13s\u001b[0m 2ms/step - accuracy: 0.7248 - loss: 0.4522 - val_accuracy: 0.7285 - val_loss: 0.4405\n",
      "Epoch 15/100\n",
      "\u001b[1m8000/8000\u001b[0m \u001b[32m━━━━━━━━━━━━━━━━━━━━\u001b[0m\u001b[37m\u001b[0m \u001b[1m13s\u001b[0m 2ms/step - accuracy: 0.7432 - loss: 0.4412 - val_accuracy: 0.7200 - val_loss: 0.4436\n",
      "Epoch 16/100\n",
      "\u001b[1m8000/8000\u001b[0m \u001b[32m━━━━━━━━━━━━━━━━━━━━\u001b[0m\u001b[37m\u001b[0m \u001b[1m13s\u001b[0m 2ms/step - accuracy: 0.7423 - loss: 0.4371 - val_accuracy: 0.7320 - val_loss: 0.4205\n",
      "Epoch 17/100\n",
      "\u001b[1m8000/8000\u001b[0m \u001b[32m━━━━━━━━━━━━━━━━━━━━\u001b[0m\u001b[37m\u001b[0m \u001b[1m11s\u001b[0m 1ms/step - accuracy: 0.7476 - loss: 0.4300 - val_accuracy: 0.7395 - val_loss: 0.4190\n",
      "Epoch 18/100\n",
      "\u001b[1m8000/8000\u001b[0m \u001b[32m━━━━━━━━━━━━━━━━━━━━\u001b[0m\u001b[37m\u001b[0m \u001b[1m12s\u001b[0m 2ms/step - accuracy: 0.7378 - loss: 0.4262 - val_accuracy: 0.7325 - val_loss: 0.4126\n",
      "Epoch 19/100\n",
      "\u001b[1m8000/8000\u001b[0m \u001b[32m━━━━━━━━━━━━━━━━━━━━\u001b[0m\u001b[37m\u001b[0m \u001b[1m14s\u001b[0m 2ms/step - accuracy: 0.7415 - loss: 0.4351 - val_accuracy: 0.7245 - val_loss: 0.4267\n",
      "Epoch 20/100\n",
      "\u001b[1m8000/8000\u001b[0m \u001b[32m━━━━━━━━━━━━━━━━━━━━\u001b[0m\u001b[37m\u001b[0m \u001b[1m13s\u001b[0m 2ms/step - accuracy: 0.7486 - loss: 0.4237 - val_accuracy: 0.7390 - val_loss: 0.4210\n",
      "Epoch 21/100\n",
      "\u001b[1m8000/8000\u001b[0m \u001b[32m━━━━━━━━━━━━━━━━━━━━\u001b[0m\u001b[37m\u001b[0m \u001b[1m13s\u001b[0m 2ms/step - accuracy: 0.7308 - loss: 0.4295 - val_accuracy: 0.7210 - val_loss: 0.4517\n",
      "Epoch 22/100\n",
      "\u001b[1m8000/8000\u001b[0m \u001b[32m━━━━━━━━━━━━━━━━━━━━\u001b[0m\u001b[37m\u001b[0m \u001b[1m13s\u001b[0m 2ms/step - accuracy: 0.7279 - loss: 0.4302 - val_accuracy: 0.7425 - val_loss: 0.4136\n",
      "Epoch 23/100\n",
      "\u001b[1m8000/8000\u001b[0m \u001b[32m━━━━━━━━━━━━━━━━━━━━\u001b[0m\u001b[37m\u001b[0m \u001b[1m13s\u001b[0m 2ms/step - accuracy: 0.7444 - loss: 0.4199 - val_accuracy: 0.7300 - val_loss: 0.4372\n",
      "Epoch 24/100\n",
      "\u001b[1m8000/8000\u001b[0m \u001b[32m━━━━━━━━━━━━━━━━━━━━\u001b[0m\u001b[37m\u001b[0m \u001b[1m12s\u001b[0m 1ms/step - accuracy: 0.7331 - loss: 0.4227 - val_accuracy: 0.7415 - val_loss: 0.4261\n",
      "Epoch 25/100\n",
      "\u001b[1m8000/8000\u001b[0m \u001b[32m━━━━━━━━━━━━━━━━━━━━\u001b[0m\u001b[37m\u001b[0m \u001b[1m12s\u001b[0m 2ms/step - accuracy: 0.7349 - loss: 0.4310 - val_accuracy: 0.7280 - val_loss: 0.4281\n",
      "Epoch 26/100\n",
      "\u001b[1m8000/8000\u001b[0m \u001b[32m━━━━━━━━━━━━━━━━━━━━\u001b[0m\u001b[37m\u001b[0m \u001b[1m12s\u001b[0m 2ms/step - accuracy: 0.7301 - loss: 0.4336 - val_accuracy: 0.7230 - val_loss: 0.4270\n",
      "Epoch 27/100\n",
      "\u001b[1m8000/8000\u001b[0m \u001b[32m━━━━━━━━━━━━━━━━━━━━\u001b[0m\u001b[37m\u001b[0m \u001b[1m12s\u001b[0m 2ms/step - accuracy: 0.7362 - loss: 0.4280 - val_accuracy: 0.7320 - val_loss: 0.4135\n",
      "Epoch 28/100\n",
      "\u001b[1m8000/8000\u001b[0m \u001b[32m━━━━━━━━━━━━━━━━━━━━\u001b[0m\u001b[37m\u001b[0m \u001b[1m12s\u001b[0m 2ms/step - accuracy: 0.7252 - loss: 0.4332 - val_accuracy: 0.7245 - val_loss: 0.4414\n",
      "Epoch 29/100\n",
      "\u001b[1m8000/8000\u001b[0m \u001b[32m━━━━━━━━━━━━━━━━━━━━\u001b[0m\u001b[37m\u001b[0m \u001b[1m12s\u001b[0m 2ms/step - accuracy: 0.7238 - loss: 0.4236 - val_accuracy: 0.7260 - val_loss: 0.4581\n",
      "Epoch 30/100\n",
      "\u001b[1m8000/8000\u001b[0m \u001b[32m━━━━━━━━━━━━━━━━━━━━\u001b[0m\u001b[37m\u001b[0m \u001b[1m12s\u001b[0m 2ms/step - accuracy: 0.7291 - loss: 0.4298 - val_accuracy: 0.7325 - val_loss: 0.4256\n",
      "Epoch 31/100\n",
      "\u001b[1m8000/8000\u001b[0m \u001b[32m━━━━━━━━━━━━━━━━━━━━\u001b[0m\u001b[37m\u001b[0m \u001b[1m12s\u001b[0m 1ms/step - accuracy: 0.7360 - loss: 0.4163 - val_accuracy: 0.7230 - val_loss: 0.4584\n",
      "Epoch 32/100\n",
      "\u001b[1m8000/8000\u001b[0m \u001b[32m━━━━━━━━━━━━━━━━━━━━\u001b[0m\u001b[37m\u001b[0m \u001b[1m13s\u001b[0m 2ms/step - accuracy: 0.7450 - loss: 0.4229 - val_accuracy: 0.7225 - val_loss: 0.4250\n",
      "Epoch 33/100\n",
      "\u001b[1m8000/8000\u001b[0m \u001b[32m━━━━━━━━━━━━━━━━━━━━\u001b[0m\u001b[37m\u001b[0m \u001b[1m13s\u001b[0m 2ms/step - accuracy: 0.7417 - loss: 0.4199 - val_accuracy: 0.7170 - val_loss: 0.4604\n",
      "Epoch 34/100\n",
      "\u001b[1m8000/8000\u001b[0m \u001b[32m━━━━━━━━━━━━━━━━━━━━\u001b[0m\u001b[37m\u001b[0m \u001b[1m13s\u001b[0m 2ms/step - accuracy: 0.7466 - loss: 0.4182 - val_accuracy: 0.7465 - val_loss: 0.4060\n",
      "Epoch 35/100\n",
      "\u001b[1m8000/8000\u001b[0m \u001b[32m━━━━━━━━━━━━━━━━━━━━\u001b[0m\u001b[37m\u001b[0m \u001b[1m14s\u001b[0m 2ms/step - accuracy: 0.7336 - loss: 0.4167 - val_accuracy: 0.7275 - val_loss: 0.4682\n",
      "Epoch 36/100\n",
      "\u001b[1m8000/8000\u001b[0m \u001b[32m━━━━━━━━━━━━━━━━━━━━\u001b[0m\u001b[37m\u001b[0m \u001b[1m14s\u001b[0m 2ms/step - accuracy: 0.7426 - loss: 0.4268 - val_accuracy: 0.7335 - val_loss: 0.4242\n",
      "Epoch 37/100\n",
      "\u001b[1m8000/8000\u001b[0m \u001b[32m━━━━━━━━━━━━━━━━━━━━\u001b[0m\u001b[37m\u001b[0m \u001b[1m13s\u001b[0m 2ms/step - accuracy: 0.7410 - loss: 0.4182 - val_accuracy: 0.7370 - val_loss: 0.4197\n",
      "Epoch 38/100\n",
      "\u001b[1m8000/8000\u001b[0m \u001b[32m━━━━━━━━━━━━━━━━━━━━\u001b[0m\u001b[37m\u001b[0m \u001b[1m14s\u001b[0m 2ms/step - accuracy: 0.7453 - loss: 0.4123 - val_accuracy: 0.7265 - val_loss: 0.4951\n",
      "Epoch 39/100\n",
      "\u001b[1m8000/8000\u001b[0m \u001b[32m━━━━━━━━━━━━━━━━━━━━\u001b[0m\u001b[37m\u001b[0m \u001b[1m13s\u001b[0m 2ms/step - accuracy: 0.7366 - loss: 0.4244 - val_accuracy: 0.7405 - val_loss: 0.4229\n",
      "Epoch 40/100\n",
      "\u001b[1m8000/8000\u001b[0m \u001b[32m━━━━━━━━━━━━━━━━━━━━\u001b[0m\u001b[37m\u001b[0m \u001b[1m13s\u001b[0m 2ms/step - accuracy: 0.7339 - loss: 0.4181 - val_accuracy: 0.7335 - val_loss: 0.4307\n",
      "Epoch 41/100\n",
      "\u001b[1m8000/8000\u001b[0m \u001b[32m━━━━━━━━━━━━━━━━━━━━\u001b[0m\u001b[37m\u001b[0m \u001b[1m10s\u001b[0m 1ms/step - accuracy: 0.7376 - loss: 0.4181 - val_accuracy: 0.7160 - val_loss: 0.4241\n",
      "Epoch 42/100\n",
      "\u001b[1m8000/8000\u001b[0m \u001b[32m━━━━━━━━━━━━━━━━━━━━\u001b[0m\u001b[37m\u001b[0m \u001b[1m12s\u001b[0m 2ms/step - accuracy: 0.7382 - loss: 0.4229 - val_accuracy: 0.7380 - val_loss: 0.4293\n",
      "Epoch 43/100\n",
      "\u001b[1m8000/8000\u001b[0m \u001b[32m━━━━━━━━━━━━━━━━━━━━\u001b[0m\u001b[37m\u001b[0m \u001b[1m13s\u001b[0m 2ms/step - accuracy: 0.7411 - loss: 0.4196 - val_accuracy: 0.7455 - val_loss: 0.4141\n",
      "Epoch 44/100\n",
      "\u001b[1m8000/8000\u001b[0m \u001b[32m━━━━━━━━━━━━━━━━━━━━\u001b[0m\u001b[37m\u001b[0m \u001b[1m13s\u001b[0m 2ms/step - accuracy: 0.7388 - loss: 0.4230 - val_accuracy: 0.7470 - val_loss: 0.4092\n",
      "Epoch 45/100\n",
      "\u001b[1m8000/8000\u001b[0m \u001b[32m━━━━━━━━━━━━━━━━━━━━\u001b[0m\u001b[37m\u001b[0m \u001b[1m13s\u001b[0m 2ms/step - accuracy: 0.7498 - loss: 0.4086 - val_accuracy: 0.7320 - val_loss: 0.4139\n",
      "Epoch 46/100\n",
      "\u001b[1m8000/8000\u001b[0m \u001b[32m━━━━━━━━━━━━━━━━━━━━\u001b[0m\u001b[37m\u001b[0m \u001b[1m11s\u001b[0m 1ms/step - accuracy: 0.7386 - loss: 0.4224 - val_accuracy: 0.7230 - val_loss: 0.4167\n",
      "Epoch 47/100\n",
      "\u001b[1m8000/8000\u001b[0m \u001b[32m━━━━━━━━━━━━━━━━━━━━\u001b[0m\u001b[37m\u001b[0m \u001b[1m11s\u001b[0m 1ms/step - accuracy: 0.7409 - loss: 0.4109 - val_accuracy: 0.7295 - val_loss: 0.4232\n",
      "Epoch 48/100\n",
      "\u001b[1m8000/8000\u001b[0m \u001b[32m━━━━━━━━━━━━━━━━━━━━\u001b[0m\u001b[37m\u001b[0m \u001b[1m13s\u001b[0m 2ms/step - accuracy: 0.7545 - loss: 0.4188 - val_accuracy: 0.7390 - val_loss: 0.4143\n",
      "Epoch 49/100\n",
      "\u001b[1m8000/8000\u001b[0m \u001b[32m━━━━━━━━━━━━━━━━━━━━\u001b[0m\u001b[37m\u001b[0m \u001b[1m13s\u001b[0m 2ms/step - accuracy: 0.7361 - loss: 0.4125 - val_accuracy: 0.7260 - val_loss: 0.4456\n",
      "Epoch 50/100\n",
      "\u001b[1m8000/8000\u001b[0m \u001b[32m━━━━━━━━━━━━━━━━━━━━\u001b[0m\u001b[37m\u001b[0m \u001b[1m14s\u001b[0m 2ms/step - accuracy: 0.7301 - loss: 0.4148 - val_accuracy: 0.7350 - val_loss: 0.4199\n",
      "Epoch 51/100\n",
      "\u001b[1m8000/8000\u001b[0m \u001b[32m━━━━━━━━━━━━━━━━━━━━\u001b[0m\u001b[37m\u001b[0m \u001b[1m13s\u001b[0m 2ms/step - accuracy: 0.7405 - loss: 0.4279 - val_accuracy: 0.7300 - val_loss: 0.4177\n",
      "Epoch 52/100\n",
      "\u001b[1m8000/8000\u001b[0m \u001b[32m━━━━━━━━━━━━━━━━━━━━\u001b[0m\u001b[37m\u001b[0m \u001b[1m13s\u001b[0m 2ms/step - accuracy: 0.7433 - loss: 0.4201 - val_accuracy: 0.7385 - val_loss: 0.4127\n",
      "Epoch 53/100\n",
      "\u001b[1m8000/8000\u001b[0m \u001b[32m━━━━━━━━━━━━━━━━━━━━\u001b[0m\u001b[37m\u001b[0m \u001b[1m14s\u001b[0m 2ms/step - accuracy: 0.7461 - loss: 0.4105 - val_accuracy: 0.7255 - val_loss: 0.4556\n",
      "Epoch 54/100\n",
      "\u001b[1m8000/8000\u001b[0m \u001b[32m━━━━━━━━━━━━━━━━━━━━\u001b[0m\u001b[37m\u001b[0m \u001b[1m14s\u001b[0m 2ms/step - accuracy: 0.7421 - loss: 0.4263 - val_accuracy: 0.7405 - val_loss: 0.4215\n",
      "Epoch 55/100\n",
      "\u001b[1m8000/8000\u001b[0m \u001b[32m━━━━━━━━━━━━━━━━━━━━\u001b[0m\u001b[37m\u001b[0m \u001b[1m13s\u001b[0m 2ms/step - accuracy: 0.7276 - loss: 0.4135 - val_accuracy: 0.7330 - val_loss: 0.4385\n",
      "Epoch 56/100\n",
      "\u001b[1m8000/8000\u001b[0m \u001b[32m━━━━━━━━━━━━━━━━━━━━\u001b[0m\u001b[37m\u001b[0m \u001b[1m11s\u001b[0m 1ms/step - accuracy: 0.7473 - loss: 0.4190 - val_accuracy: 0.7440 - val_loss: 0.4198\n",
      "Epoch 57/100\n",
      "\u001b[1m8000/8000\u001b[0m \u001b[32m━━━━━━━━━━━━━━━━━━━━\u001b[0m\u001b[37m\u001b[0m \u001b[1m11s\u001b[0m 1ms/step - accuracy: 0.7462 - loss: 0.4117 - val_accuracy: 0.7260 - val_loss: 0.4656\n",
      "Epoch 58/100\n",
      "\u001b[1m8000/8000\u001b[0m \u001b[32m━━━━━━━━━━━━━━━━━━━━\u001b[0m\u001b[37m\u001b[0m \u001b[1m11s\u001b[0m 1ms/step - accuracy: 0.7405 - loss: 0.4158 - val_accuracy: 0.7350 - val_loss: 0.4263\n",
      "Epoch 59/100\n",
      "\u001b[1m8000/8000\u001b[0m \u001b[32m━━━━━━━━━━━━━━━━━━━━\u001b[0m\u001b[37m\u001b[0m \u001b[1m11s\u001b[0m 1ms/step - accuracy: 0.7403 - loss: 0.4147 - val_accuracy: 0.7180 - val_loss: 0.4639\n",
      "Epoch 60/100\n",
      "\u001b[1m8000/8000\u001b[0m \u001b[32m━━━━━━━━━━━━━━━━━━━━\u001b[0m\u001b[37m\u001b[0m \u001b[1m13s\u001b[0m 2ms/step - accuracy: 0.7426 - loss: 0.4136 - val_accuracy: 0.7165 - val_loss: 0.4482\n",
      "Epoch 61/100\n",
      "\u001b[1m8000/8000\u001b[0m \u001b[32m━━━━━━━━━━━━━━━━━━━━\u001b[0m\u001b[37m\u001b[0m \u001b[1m13s\u001b[0m 2ms/step - accuracy: 0.7350 - loss: 0.4219 - val_accuracy: 0.7270 - val_loss: 0.4475\n",
      "Epoch 62/100\n",
      "\u001b[1m8000/8000\u001b[0m \u001b[32m━━━━━━━━━━━━━━━━━━━━\u001b[0m\u001b[37m\u001b[0m \u001b[1m13s\u001b[0m 2ms/step - accuracy: 0.7466 - loss: 0.4066 - val_accuracy: 0.7470 - val_loss: 0.4066\n",
      "Epoch 63/100\n",
      "\u001b[1m8000/8000\u001b[0m \u001b[32m━━━━━━━━━━━━━━━━━━━━\u001b[0m\u001b[37m\u001b[0m \u001b[1m13s\u001b[0m 2ms/step - accuracy: 0.7406 - loss: 0.4162 - val_accuracy: 0.7300 - val_loss: 0.4526\n",
      "Epoch 64/100\n",
      "\u001b[1m8000/8000\u001b[0m \u001b[32m━━━━━━━━━━━━━━━━━━━━\u001b[0m\u001b[37m\u001b[0m \u001b[1m13s\u001b[0m 2ms/step - accuracy: 0.7443 - loss: 0.4123 - val_accuracy: 0.7340 - val_loss: 0.4079\n",
      "Epoch 65/100\n",
      "\u001b[1m8000/8000\u001b[0m \u001b[32m━━━━━━━━━━━━━━━━━━━━\u001b[0m\u001b[37m\u001b[0m \u001b[1m13s\u001b[0m 2ms/step - accuracy: 0.7394 - loss: 0.4102 - val_accuracy: 0.7480 - val_loss: 0.4101\n",
      "Epoch 66/100\n",
      "\u001b[1m8000/8000\u001b[0m \u001b[32m━━━━━━━━━━━━━━━━━━━━\u001b[0m\u001b[37m\u001b[0m \u001b[1m13s\u001b[0m 2ms/step - accuracy: 0.7448 - loss: 0.4099 - val_accuracy: 0.7260 - val_loss: 0.4217\n",
      "Epoch 67/100\n",
      "\u001b[1m8000/8000\u001b[0m \u001b[32m━━━━━━━━━━━━━━━━━━━━\u001b[0m\u001b[37m\u001b[0m \u001b[1m14s\u001b[0m 2ms/step - accuracy: 0.7418 - loss: 0.4227 - val_accuracy: 0.7325 - val_loss: 0.4245\n",
      "Epoch 68/100\n",
      "\u001b[1m8000/8000\u001b[0m \u001b[32m━━━━━━━━━━━━━━━━━━━━\u001b[0m\u001b[37m\u001b[0m \u001b[1m14s\u001b[0m 2ms/step - accuracy: 0.7475 - loss: 0.4097 - val_accuracy: 0.7155 - val_loss: 0.4235\n",
      "Epoch 69/100\n",
      "\u001b[1m8000/8000\u001b[0m \u001b[32m━━━━━━━━━━━━━━━━━━━━\u001b[0m\u001b[37m\u001b[0m \u001b[1m13s\u001b[0m 2ms/step - accuracy: 0.7385 - loss: 0.4184 - val_accuracy: 0.7295 - val_loss: 0.4088\n",
      "Epoch 70/100\n",
      "\u001b[1m8000/8000\u001b[0m \u001b[32m━━━━━━━━━━━━━━━━━━━━\u001b[0m\u001b[37m\u001b[0m \u001b[1m12s\u001b[0m 2ms/step - accuracy: 0.7477 - loss: 0.4137 - val_accuracy: 0.7450 - val_loss: 0.4042\n",
      "Epoch 71/100\n",
      "\u001b[1m8000/8000\u001b[0m \u001b[32m━━━━━━━━━━━━━━━━━━━━\u001b[0m\u001b[37m\u001b[0m \u001b[1m12s\u001b[0m 2ms/step - accuracy: 0.7451 - loss: 0.4056 - val_accuracy: 0.7270 - val_loss: 0.4187\n",
      "Epoch 72/100\n",
      "\u001b[1m8000/8000\u001b[0m \u001b[32m━━━━━━━━━━━━━━━━━━━━\u001b[0m\u001b[37m\u001b[0m \u001b[1m12s\u001b[0m 2ms/step - accuracy: 0.7466 - loss: 0.4091 - val_accuracy: 0.7405 - val_loss: 0.4124\n",
      "Epoch 73/100\n",
      "\u001b[1m8000/8000\u001b[0m \u001b[32m━━━━━━━━━━━━━━━━━━━━\u001b[0m\u001b[37m\u001b[0m \u001b[1m12s\u001b[0m 1ms/step - accuracy: 0.7379 - loss: 0.4136 - val_accuracy: 0.7465 - val_loss: 0.4101\n",
      "Epoch 74/100\n",
      "\u001b[1m8000/8000\u001b[0m \u001b[32m━━━━━━━━━━━━━━━━━━━━\u001b[0m\u001b[37m\u001b[0m \u001b[1m11s\u001b[0m 1ms/step - accuracy: 0.7389 - loss: 0.4257 - val_accuracy: 0.7315 - val_loss: 0.4189\n",
      "Epoch 75/100\n",
      "\u001b[1m8000/8000\u001b[0m \u001b[32m━━━━━━━━━━━━━━━━━━━━\u001b[0m\u001b[37m\u001b[0m \u001b[1m13s\u001b[0m 2ms/step - accuracy: 0.7557 - loss: 0.4071 - val_accuracy: 0.7300 - val_loss: 0.4196\n",
      "Epoch 76/100\n",
      "\u001b[1m8000/8000\u001b[0m \u001b[32m━━━━━━━━━━━━━━━━━━━━\u001b[0m\u001b[37m\u001b[0m \u001b[1m13s\u001b[0m 2ms/step - accuracy: 0.7324 - loss: 0.4298 - val_accuracy: 0.7350 - val_loss: 0.4089\n",
      "Epoch 77/100\n",
      "\u001b[1m8000/8000\u001b[0m \u001b[32m━━━━━━━━━━━━━━━━━━━━\u001b[0m\u001b[37m\u001b[0m \u001b[1m13s\u001b[0m 2ms/step - accuracy: 0.7437 - loss: 0.4137 - val_accuracy: 0.7430 - val_loss: 0.4230\n",
      "Epoch 78/100\n",
      "\u001b[1m8000/8000\u001b[0m \u001b[32m━━━━━━━━━━━━━━━━━━━━\u001b[0m\u001b[37m\u001b[0m \u001b[1m13s\u001b[0m 2ms/step - accuracy: 0.7526 - loss: 0.4125 - val_accuracy: 0.7360 - val_loss: 0.4205\n",
      "Epoch 79/100\n",
      "\u001b[1m8000/8000\u001b[0m \u001b[32m━━━━━━━━━━━━━━━━━━━━\u001b[0m\u001b[37m\u001b[0m \u001b[1m13s\u001b[0m 2ms/step - accuracy: 0.7428 - loss: 0.4070 - val_accuracy: 0.7260 - val_loss: 0.5316\n",
      "Epoch 80/100\n",
      "\u001b[1m8000/8000\u001b[0m \u001b[32m━━━━━━━━━━━━━━━━━━━━\u001b[0m\u001b[37m\u001b[0m \u001b[1m13s\u001b[0m 2ms/step - accuracy: 0.7510 - loss: 0.4180 - val_accuracy: 0.7295 - val_loss: 0.4089\n",
      "Epoch 81/100\n",
      "\u001b[1m8000/8000\u001b[0m \u001b[32m━━━━━━━━━━━━━━━━━━━━\u001b[0m\u001b[37m\u001b[0m \u001b[1m13s\u001b[0m 2ms/step - accuracy: 0.7400 - loss: 0.4068 - val_accuracy: 0.7335 - val_loss: 0.4318\n",
      "Epoch 82/100\n",
      "\u001b[1m8000/8000\u001b[0m \u001b[32m━━━━━━━━━━━━━━━━━━━━\u001b[0m\u001b[37m\u001b[0m \u001b[1m13s\u001b[0m 2ms/step - accuracy: 0.7387 - loss: 0.4207 - val_accuracy: 0.7300 - val_loss: 0.4485\n",
      "Epoch 83/100\n",
      "\u001b[1m8000/8000\u001b[0m \u001b[32m━━━━━━━━━━━━━━━━━━━━\u001b[0m\u001b[37m\u001b[0m \u001b[1m13s\u001b[0m 2ms/step - accuracy: 0.7433 - loss: 0.4061 - val_accuracy: 0.7445 - val_loss: 0.4079\n",
      "Epoch 84/100\n",
      "\u001b[1m8000/8000\u001b[0m \u001b[32m━━━━━━━━━━━━━━━━━━━━\u001b[0m\u001b[37m\u001b[0m \u001b[1m13s\u001b[0m 2ms/step - accuracy: 0.7418 - loss: 0.4069 - val_accuracy: 0.7270 - val_loss: 0.4209\n",
      "Epoch 85/100\n",
      "\u001b[1m8000/8000\u001b[0m \u001b[32m━━━━━━━━━━━━━━━━━━━━\u001b[0m\u001b[37m\u001b[0m \u001b[1m13s\u001b[0m 2ms/step - accuracy: 0.7387 - loss: 0.4121 - val_accuracy: 0.7125 - val_loss: 0.4589\n",
      "Epoch 86/100\n",
      "\u001b[1m8000/8000\u001b[0m \u001b[32m━━━━━━━━━━━━━━━━━━━━\u001b[0m\u001b[37m\u001b[0m \u001b[1m13s\u001b[0m 2ms/step - accuracy: 0.7438 - loss: 0.4095 - val_accuracy: 0.7315 - val_loss: 0.4356\n",
      "Epoch 87/100\n",
      "\u001b[1m8000/8000\u001b[0m \u001b[32m━━━━━━━━━━━━━━━━━━━━\u001b[0m\u001b[37m\u001b[0m \u001b[1m13s\u001b[0m 2ms/step - accuracy: 0.7479 - loss: 0.4104 - val_accuracy: 0.7375 - val_loss: 0.4184\n",
      "Epoch 88/100\n",
      "\u001b[1m8000/8000\u001b[0m \u001b[32m━━━━━━━━━━━━━━━━━━━━\u001b[0m\u001b[37m\u001b[0m \u001b[1m13s\u001b[0m 2ms/step - accuracy: 0.7412 - loss: 0.4222 - val_accuracy: 0.7305 - val_loss: 0.4312\n",
      "Epoch 89/100\n",
      "\u001b[1m8000/8000\u001b[0m \u001b[32m━━━━━━━━━━━━━━━━━━━━\u001b[0m\u001b[37m\u001b[0m \u001b[1m13s\u001b[0m 2ms/step - accuracy: 0.7368 - loss: 0.4089 - val_accuracy: 0.7375 - val_loss: 0.4093\n",
      "Epoch 90/100\n",
      "\u001b[1m8000/8000\u001b[0m \u001b[32m━━━━━━━━━━━━━━━━━━━━\u001b[0m\u001b[37m\u001b[0m \u001b[1m13s\u001b[0m 2ms/step - accuracy: 0.7411 - loss: 0.4104 - val_accuracy: 0.7160 - val_loss: 0.5101\n",
      "Epoch 91/100\n",
      "\u001b[1m8000/8000\u001b[0m \u001b[32m━━━━━━━━━━━━━━━━━━━━\u001b[0m\u001b[37m\u001b[0m \u001b[1m13s\u001b[0m 2ms/step - accuracy: 0.7402 - loss: 0.4084 - val_accuracy: 0.7430 - val_loss: 0.4183\n",
      "Epoch 92/100\n",
      "\u001b[1m8000/8000\u001b[0m \u001b[32m━━━━━━━━━━━━━━━━━━━━\u001b[0m\u001b[37m\u001b[0m \u001b[1m13s\u001b[0m 2ms/step - accuracy: 0.7471 - loss: 0.4043 - val_accuracy: 0.7425 - val_loss: 0.4086\n",
      "Epoch 93/100\n",
      "\u001b[1m8000/8000\u001b[0m \u001b[32m━━━━━━━━━━━━━━━━━━━━\u001b[0m\u001b[37m\u001b[0m \u001b[1m13s\u001b[0m 2ms/step - accuracy: 0.7402 - loss: 0.4146 - val_accuracy: 0.7315 - val_loss: 0.4475\n",
      "Epoch 94/100\n",
      "\u001b[1m8000/8000\u001b[0m \u001b[32m━━━━━━━━━━━━━━━━━━━━\u001b[0m\u001b[37m\u001b[0m \u001b[1m13s\u001b[0m 2ms/step - accuracy: 0.7484 - loss: 0.4116 - val_accuracy: 0.7325 - val_loss: 0.4430\n",
      "Epoch 95/100\n",
      "\u001b[1m8000/8000\u001b[0m \u001b[32m━━━━━━━━━━━━━━━━━━━━\u001b[0m\u001b[37m\u001b[0m \u001b[1m13s\u001b[0m 2ms/step - accuracy: 0.7416 - loss: 0.4148 - val_accuracy: 0.7425 - val_loss: 0.4134\n",
      "Epoch 96/100\n",
      "\u001b[1m8000/8000\u001b[0m \u001b[32m━━━━━━━━━━━━━━━━━━━━\u001b[0m\u001b[37m\u001b[0m \u001b[1m13s\u001b[0m 2ms/step - accuracy: 0.7272 - loss: 0.4220 - val_accuracy: 0.7390 - val_loss: 0.4459\n",
      "Epoch 97/100\n",
      "\u001b[1m8000/8000\u001b[0m \u001b[32m━━━━━━━━━━━━━━━━━━━━\u001b[0m\u001b[37m\u001b[0m \u001b[1m13s\u001b[0m 2ms/step - accuracy: 0.7404 - loss: 0.4196 - val_accuracy: 0.7415 - val_loss: 0.4181\n",
      "Epoch 98/100\n",
      "\u001b[1m8000/8000\u001b[0m \u001b[32m━━━━━━━━━━━━━━━━━━━━\u001b[0m\u001b[37m\u001b[0m \u001b[1m13s\u001b[0m 2ms/step - accuracy: 0.7304 - loss: 0.4111 - val_accuracy: 0.7440 - val_loss: 0.4093\n",
      "Epoch 99/100\n",
      "\u001b[1m8000/8000\u001b[0m \u001b[32m━━━━━━━━━━━━━━━━━━━━\u001b[0m\u001b[37m\u001b[0m \u001b[1m13s\u001b[0m 2ms/step - accuracy: 0.7398 - loss: 0.4158 - val_accuracy: 0.7435 - val_loss: 0.4005\n",
      "Epoch 100/100\n",
      "\u001b[1m8000/8000\u001b[0m \u001b[32m━━━━━━━━━━━━━━━━━━━━\u001b[0m\u001b[37m\u001b[0m \u001b[1m14s\u001b[0m 2ms/step - accuracy: 0.7416 - loss: 0.4117 - val_accuracy: 0.7430 - val_loss: 0.4096\n"
     ]
    }
   ],
   "source": [
    "history = model.fit(x_train, y_train, epochs=100, batch_size=1, validation_data=(x_test, y_test), verbose=1)"
   ]
  },
  {
   "cell_type": "code",
   "execution_count": 26,
   "id": "84cdef2c-9b11-465b-8031-825b81a8b9fc",
   "metadata": {},
   "outputs": [
    {
     "name": "stdout",
     "output_type": "stream",
     "text": [
      "\u001b[1m63/63\u001b[0m \u001b[32m━━━━━━━━━━━━━━━━━━━━\u001b[0m\u001b[37m\u001b[0m \u001b[1m0s\u001b[0m 1ms/step - accuracy: 0.7392 - loss: 0.4084\n",
      "Accuracy: 74.30%\n"
     ]
    }
   ],
   "source": [
    "scores = model.evaluate(x_test, y_test)\n",
    "print(\"Accuracy: %.2f%%\" % (scores[1]*100))"
   ]
  },
  {
   "cell_type": "markdown",
   "id": "9481e864",
   "metadata": {},
   "source": [
    "## Additional Resources\n",
    "\n",
    "* [Deep Learning for Physics Research](https://www.google.de/books/edition/Deep_Learning_For_Physics_Research/8dM3EAAAQBAJ?hl=en&gbpv=1&printsec=frontcover)\n",
    "\n",
    "* Lecture series [Machine Learning for Physicists](https://youtube.com/playlist?list=PLemsnf33Vij4eFWwtoQCrt9AHjLe3uo9_&si=INosux5cpQhzNs-5) taught by Florian Marquardt \n",
    "    * Relevant Jupyter notebooks can be found at [the associated GitHub repository](https://github.com/FlorianMarquardt/machine-learning-for-physicists) "
   ]
  },
  {
   "cell_type": "code",
   "execution_count": null,
   "id": "b080172d-9150-471a-9e26-bb7205157b38",
   "metadata": {},
   "outputs": [],
   "source": []
  }
 ],
 "metadata": {
  "kernelspec": {
   "display_name": "Python 3 (ipykernel)",
   "language": "python",
   "name": "python3"
  },
  "language_info": {
   "codemirror_mode": {
    "name": "ipython",
    "version": 3
   },
   "file_extension": ".py",
   "mimetype": "text/x-python",
   "name": "python",
   "nbconvert_exporter": "python",
   "pygments_lexer": "ipython3",
   "version": "3.12.4"
  }
 },
 "nbformat": 4,
 "nbformat_minor": 5
}
