{
 "cells": [
  {
   "cell_type": "markdown",
   "id": "c2cfa925",
   "metadata": {},
   "source": [
    "*Quick note: make sure you have the following packages installed before using this notebook!*"
   ]
  },
  {
   "cell_type": "markdown",
   "id": "78c4daff-b72f-41e8-9b61-db53406dafcf",
   "metadata": {},
   "source": [
    "* my instollations did not work "
   ]
  },
  {
   "cell_type": "code",
   "execution_count": 3,
   "id": "d111031c-c3a6-4941-b3a7-87cb2302503f",
   "metadata": {},
   "outputs": [],
   "source": [
    "#!pip install --upgrade astropy"
   ]
  },
  {
   "cell_type": "code",
   "execution_count": 17,
   "id": "14d2e742-ce4b-4f57-ac16-f17ba2ee4985",
   "metadata": {},
   "outputs": [],
   "source": [
    "#!pip uninstall radver\n",
    "#!pip install radvel"
   ]
  },
  {
   "cell_type": "code",
   "execution_count": 8,
   "id": "ac298cae-5dd8-445e-b887-5bf7244be225",
   "metadata": {},
   "outputs": [],
   "source": [
    "from astropy.timeseries import LombScargle # for periodograms\n",
    "import corner # for visualizing parameter distributions\n",
    "import numpy as np # for math and data storage"
   ]
  },
  {
   "cell_type": "code",
   "execution_count": 19,
   "id": "2cf681cb",
   "metadata": {},
   "outputs": [
    {
     "ename": "ModuleNotFoundError",
     "evalue": "No module named 'radvel'",
     "output_type": "error",
     "traceback": [
      "\u001b[1;31m---------------------------------------------------------------------------\u001b[0m",
      "\u001b[1;31mModuleNotFoundError\u001b[0m                       Traceback (most recent call last)",
      "Cell \u001b[1;32mIn[19], line 2\u001b[0m\n\u001b[0;32m      1\u001b[0m \u001b[38;5;28;01mimport\u001b[39;00m \u001b[38;5;21;01mmatplotlib\u001b[39;00m\u001b[38;5;21;01m.\u001b[39;00m\u001b[38;5;21;01mpyplot\u001b[39;00m \u001b[38;5;28;01mas\u001b[39;00m \u001b[38;5;21;01mplt\u001b[39;00m \u001b[38;5;66;03m# for plot making\u001b[39;00m\n\u001b[1;32m----> 2\u001b[0m \u001b[38;5;28;01mimport\u001b[39;00m \u001b[38;5;21;01mradvel\u001b[39;00m \u001b[38;5;66;03m# for fitting RVs\u001b[39;00m\n\u001b[0;32m      3\u001b[0m \u001b[38;5;28;01mfrom\u001b[39;00m \u001b[38;5;21;01mradvel\u001b[39;00m\u001b[38;5;21;01m.\u001b[39;00m\u001b[38;5;21;01mplot\u001b[39;00m \u001b[38;5;28;01mimport\u001b[39;00m orbit_plots, mcmc_plots \u001b[38;5;66;03m# for visualizing RVs\u001b[39;00m\n\u001b[0;32m      4\u001b[0m \u001b[38;5;28;01mfrom\u001b[39;00m \u001b[38;5;21;01mscipy\u001b[39;00m \u001b[38;5;28;01mimport\u001b[39;00m optimize \u001b[38;5;66;03m# for fitting RVs\u001b[39;00m\n",
      "\u001b[1;31mModuleNotFoundError\u001b[0m: No module named 'radvel'"
     ]
    }
   ],
   "source": [
    "import matplotlib.pyplot as plt # for plot making\n",
    "import radvel # for fitting RVs\n",
    "from radvel.plot import orbit_plots, mcmc_plots # for visualizing RVs\n",
    "from scipy import optimize # for fitting RVs\n",
    "\n",
    "# this bit below is just to fix an issue with radvel that appears if you're using numpy versions 1.22.0 or later!\n",
    "try:\n",
    "    np.__config__.blas_opt_info = np.__config__.blas_ilp64_opt_info\n",
    "except Exception:\n",
    "    pass"
   ]
  },
  {
   "cell_type": "code",
   "execution_count": 7,
   "id": "f14791e9-e6d3-425b-b6a2-943b11c55f65",
   "metadata": {},
   "outputs": [
    {
     "name": "stdout",
     "output_type": "stream",
     "text": [
      "6.1.0\n"
     ]
    }
   ],
   "source": [
    "import astropy\n",
    "print(astropy.__version__)"
   ]
  },
  {
   "cell_type": "markdown",
   "id": "570f4671",
   "metadata": {},
   "source": [
    "# Finding the Orbital Parameters of ???\n",
    "\n",
    "Welcome to the Radial Velocities assignment! In this assignment, you're going to be finding the mass (or minimum mass) of a planet from radial velocity measurements from scratch, all on your own.\n",
    "\n",
    "This is a very open-ended assignment, and I'd like you to code it all on your own! You pick the planet, you code it up. That said, I will give some steps (that you don't have to follow but may be helpful):\n",
    "\n",
    "1. Figure out which planet you want to find the orbital parameters of! Not all RV data is good to work with, especially for people still getting used to RVs. Ideally, you find a planet that:\n",
    "- is the only planet in its system (otherwise you'll have two signals! You can model them both if you want a challenge, but you don't need to here.)\n",
    "- is a very massive planet! If you have Earthike planets, the signals start getting too small for RV methods to detect without also having to model things like stellar variability (and trust me -- as someone who struggles to do that as a job, it's tough!)\n",
    "- Around a Sun-like star (really small stars have very high signal semi-amplitudes but have a lot of stellar variability, while really big stars have very small RV semi-amplitudes!\n",
    "- Has RVs from only one instrument, as each instrument may have different offsets or quirks that make them more difficult to model together\n",
    "- Has RVs you can easily download and access yourself!\n",
    "\n",
    "  Here are a few papers containing RVs that satisfy those bullet points! You don't need to use them, but they're here if you'd rather not find a system yourself.\n",
    "- TrES-2 b, with its paper [here](https://iopscience.iop.org/article/10.1086/509123/pdf)\n",
    "- HAT-P-15 b, with its paper [here](https://iopscience.iop.org/article/10.1088/0004-637X/724/2/866)\n",
    "- HD 22532 b, with its paper [here](https://www.aanda.org/articles/aa/full_html/2022/01/aa40078-20/aa40078-20.html)\n",
    "\n",
    "2. Download and read in the data! In some papers (like the HAT-P-15 b paper or the HD 22532 paper), the RVs are available in a downloadable table in the paper. Sometimes, the data is linked through data centers like CDS, or maybe Simbad or Vizier; sometimes, like in the TrES-2 b paper, you just need to copy and paste the table into a .txt file :/ In any case, get the data and read it in. To make sure you know it works, maybe try plotting your RVs as a function of time, with error bars if you can!\n",
    "\n",
    "3. Figure out your priors! Some of these are going to be informed by realistic numbers (e.g. informing that your jitter cannot be negative), while some of these are going to be informed by previous studies. For example, if the paper you're getting your RV data from notes that this planet is transiting, use priors informed by the transits for $P$ and $t_0$! (RVs can figure out those two values to the tune of hours or minutes, but transits can get so much more precise values for those -- down to a fraction of a second in some cases -- that it's worth just using the values of $P$ and $t_0$ from transit fits for your priors.)\n",
    "\n",
    "4. Figure out what values to initialize your parameters to. It's okay to just do this by eye if you don't have better options, but if you have better options use them! For example, it might be worth making your own peridogram to figure out what value to initialize your planet's period to if you don't have transit data.\n",
    "\n",
    "5. Run a simple optimization fit!\n",
    "\n",
    "6. Do an MCMC fit.\n",
    "\n",
    "7. Look at your results! Do they look reasonable? Are they consistent with the results found in the papers you got data from?"
   ]
  },
  {
   "cell_type": "code",
   "execution_count": null,
   "id": "5f31b07d",
   "metadata": {},
   "outputs": [],
   "source": [
    "# TODO: find planet masses!"
   ]
  },
  {
   "cell_type": "code",
   "execution_count": 20,
   "id": "9df62e69-38e4-4489-8b7b-63c572a06c02",
   "metadata": {},
   "outputs": [],
   "source": [
    "import pandas as pd"
   ]
  },
  {
   "cell_type": "code",
   "execution_count": 21,
   "id": "ff5da31c-1703-4db0-b3f6-3c8e8b7eb0ee",
   "metadata": {},
   "outputs": [],
   "source": [
    "import matplotlib.pyplot as plt"
   ]
  },
  {
   "cell_type": "code",
   "execution_count": 34,
   "id": "03ef63d8-8a4b-46f4-a241-25aa88fcb553",
   "metadata": {},
   "outputs": [],
   "source": [
    "pg=pd.read_csv('51Pegasi.csv')"
   ]
  },
  {
   "cell_type": "code",
   "execution_count": 35,
   "id": "3a753242-bd98-4100-82d4-746a33a25301",
   "metadata": {},
   "outputs": [
    {
     "data": {
      "text/plain": [
       "(69, 2)"
      ]
     },
     "execution_count": 35,
     "metadata": {},
     "output_type": "execute_result"
    }
   ],
   "source": [
    "pg.shape"
   ]
  },
  {
   "cell_type": "code",
   "execution_count": 36,
   "id": "ab8cbda3-7787-4405-9e67-137f64d4b09a",
   "metadata": {},
   "outputs": [
    {
     "data": {
      "image/png": "[encoded data removed]",
      "text/plain": [
       "<Figure size 1000x600 with 1 Axes>"
      ]
     },
     "metadata": {},
     "output_type": "display_data"
    }
   ],
   "source": [
    "import matplotlib.pyplot as plt\n",
    "\n",
    "# Verileriniz\n",
    "time = [2.6999999999999993, 0, 1, 2, 3, 4]\n",
    "flux = [-38.41611374407583, -44.579147, -45.058768, -17.581043, -10.948815, -3.368720]\n",
    "\n",
    "# Grafik oluşturma\n",
    "plt.figure(figsize=(10, 6))\n",
    "plt.plot(time, flux, 'bo-')\n",
    "plt.xlabel('Time')\n",
    "plt.ylabel('Flux')\n",
    "plt.title('Light Curve')\n",
    "plt.grid(True)\n",
    "plt.show()"
   ]
  },
  {
   "cell_type": "code",
   "execution_count": null,
   "id": "e390825a-d049-4466-baf4-7af423fde990",
   "metadata": {},
   "outputs": [],
   "source": []
  }
 ],
 "metadata": {
  "kernelspec": {
   "display_name": "Python 3 (ipykernel)",
   "language": "python",
   "name": "python3"
  },
  "language_info": {
   "codemirror_mode": {
    "name": "ipython",
    "version": 3
   },
   "file_extension": ".py",
   "mimetype": "text/x-python",
   "name": "python",
   "nbconvert_exporter": "python",
   "pygments_lexer": "ipython3",
   "version": "3.12.4"
  }
 },
 "nbformat": 4,
 "nbformat_minor": 5
}
